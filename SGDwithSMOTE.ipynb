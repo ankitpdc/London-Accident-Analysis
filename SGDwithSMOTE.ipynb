{
 "cells": [
  {
   "cell_type": "code",
   "execution_count": 1,
   "metadata": {},
   "outputs": [],
   "source": [
    "import matplotlib.pyplot as plt\n",
    "import pandas as pd\n",
    "import numpy as np\n",
    "import seaborn as sns\n",
    "from datetime import datetime\n",
    "\n",
    "#\n",
    "from sklearn.linear_model import SGDClassifier\n",
    "from sklearn.tree import DecisionTreeClassifier\n",
    "from sklearn.metrics import classification_report, confusion_matrix, accuracy_score, balanced_accuracy_score\n",
    "from sklearn.model_selection import train_test_split\n",
    "from sklearn import preprocessing\n",
    "import imblearn"
   ]
  },
  {
   "cell_type": "markdown",
   "metadata": {},
   "source": [
    "## Import raw data"
   ]
  },
  {
   "cell_type": "code",
   "execution_count": 2,
   "metadata": {},
   "outputs": [
    {
     "data": {
      "text/html": [
       "<div>\n",
       "<style scoped>\n",
       "    .dataframe tbody tr th:only-of-type {\n",
       "        vertical-align: middle;\n",
       "    }\n",
       "\n",
       "    .dataframe tbody tr th {\n",
       "        vertical-align: top;\n",
       "    }\n",
       "\n",
       "    .dataframe thead th {\n",
       "        text-align: right;\n",
       "    }\n",
       "</style>\n",
       "<table border=\"1\" class=\"dataframe\">\n",
       "  <thead>\n",
       "    <tr style=\"text-align: right;\">\n",
       "      <th></th>\n",
       "      <th>0</th>\n",
       "      <th>1</th>\n",
       "    </tr>\n",
       "  </thead>\n",
       "  <tbody>\n",
       "    <tr>\n",
       "      <th>Accident_Index</th>\n",
       "      <td>201401BS70001</td>\n",
       "      <td>201401BS70002</td>\n",
       "    </tr>\n",
       "    <tr>\n",
       "      <th>Location_Easting_OSGR</th>\n",
       "      <td>524600</td>\n",
       "      <td>525780</td>\n",
       "    </tr>\n",
       "    <tr>\n",
       "      <th>Location_Northing_OSGR</th>\n",
       "      <td>179020</td>\n",
       "      <td>178290</td>\n",
       "    </tr>\n",
       "    <tr>\n",
       "      <th>Longitude</th>\n",
       "      <td>-0.206443</td>\n",
       "      <td>-0.189713</td>\n",
       "    </tr>\n",
       "    <tr>\n",
       "      <th>Latitude</th>\n",
       "      <td>51.4963</td>\n",
       "      <td>51.4895</td>\n",
       "    </tr>\n",
       "    <tr>\n",
       "      <th>Police_Force</th>\n",
       "      <td>1</td>\n",
       "      <td>1</td>\n",
       "    </tr>\n",
       "    <tr>\n",
       "      <th>Accident_Severity</th>\n",
       "      <td>3</td>\n",
       "      <td>3</td>\n",
       "    </tr>\n",
       "    <tr>\n",
       "      <th>Number_of_Vehicles</th>\n",
       "      <td>2</td>\n",
       "      <td>2</td>\n",
       "    </tr>\n",
       "    <tr>\n",
       "      <th>Number_of_Casualties</th>\n",
       "      <td>1</td>\n",
       "      <td>1</td>\n",
       "    </tr>\n",
       "    <tr>\n",
       "      <th>Date</th>\n",
       "      <td>09/01/2014</td>\n",
       "      <td>20/01/2014</td>\n",
       "    </tr>\n",
       "    <tr>\n",
       "      <th>Day_of_Week</th>\n",
       "      <td>5</td>\n",
       "      <td>2</td>\n",
       "    </tr>\n",
       "    <tr>\n",
       "      <th>Time</th>\n",
       "      <td>13:21</td>\n",
       "      <td>23:00</td>\n",
       "    </tr>\n",
       "    <tr>\n",
       "      <th>Local_Authority_(District)</th>\n",
       "      <td>12</td>\n",
       "      <td>12</td>\n",
       "    </tr>\n",
       "    <tr>\n",
       "      <th>Local_Authority_(Highway)</th>\n",
       "      <td>E09000020</td>\n",
       "      <td>E09000020</td>\n",
       "    </tr>\n",
       "    <tr>\n",
       "      <th>1st_Road_Class</th>\n",
       "      <td>3</td>\n",
       "      <td>3</td>\n",
       "    </tr>\n",
       "    <tr>\n",
       "      <th>1st_Road_Number</th>\n",
       "      <td>315</td>\n",
       "      <td>3218</td>\n",
       "    </tr>\n",
       "    <tr>\n",
       "      <th>Road_Type</th>\n",
       "      <td>6</td>\n",
       "      <td>6</td>\n",
       "    </tr>\n",
       "    <tr>\n",
       "      <th>Speed_limit</th>\n",
       "      <td>30</td>\n",
       "      <td>30</td>\n",
       "    </tr>\n",
       "    <tr>\n",
       "      <th>Junction_Detail</th>\n",
       "      <td>0</td>\n",
       "      <td>5</td>\n",
       "    </tr>\n",
       "    <tr>\n",
       "      <th>Junction_Control</th>\n",
       "      <td>-1</td>\n",
       "      <td>4</td>\n",
       "    </tr>\n",
       "    <tr>\n",
       "      <th>2nd_Road_Class</th>\n",
       "      <td>-1</td>\n",
       "      <td>3</td>\n",
       "    </tr>\n",
       "    <tr>\n",
       "      <th>2nd_Road_Number</th>\n",
       "      <td>0</td>\n",
       "      <td>3220</td>\n",
       "    </tr>\n",
       "    <tr>\n",
       "      <th>Pedestrian_Crossing-Human_Control</th>\n",
       "      <td>0</td>\n",
       "      <td>0</td>\n",
       "    </tr>\n",
       "    <tr>\n",
       "      <th>Pedestrian_Crossing-Physical_Facilities</th>\n",
       "      <td>0</td>\n",
       "      <td>5</td>\n",
       "    </tr>\n",
       "    <tr>\n",
       "      <th>Light_Conditions</th>\n",
       "      <td>1</td>\n",
       "      <td>7</td>\n",
       "    </tr>\n",
       "    <tr>\n",
       "      <th>Weather_Conditions</th>\n",
       "      <td>2</td>\n",
       "      <td>1</td>\n",
       "    </tr>\n",
       "    <tr>\n",
       "      <th>Road_Surface_Conditions</th>\n",
       "      <td>2</td>\n",
       "      <td>1</td>\n",
       "    </tr>\n",
       "    <tr>\n",
       "      <th>Special_Conditions_at_Site</th>\n",
       "      <td>0</td>\n",
       "      <td>0</td>\n",
       "    </tr>\n",
       "    <tr>\n",
       "      <th>Carriageway_Hazards</th>\n",
       "      <td>0</td>\n",
       "      <td>0</td>\n",
       "    </tr>\n",
       "    <tr>\n",
       "      <th>Urban_or_Rural_Area</th>\n",
       "      <td>1</td>\n",
       "      <td>1</td>\n",
       "    </tr>\n",
       "    <tr>\n",
       "      <th>Did_Police_Officer_Attend_Scene_of_Accident</th>\n",
       "      <td>2</td>\n",
       "      <td>2</td>\n",
       "    </tr>\n",
       "    <tr>\n",
       "      <th>LSOA_of_Accident_Location</th>\n",
       "      <td>E01002814</td>\n",
       "      <td>E01002894</td>\n",
       "    </tr>\n",
       "  </tbody>\n",
       "</table>\n",
       "</div>"
      ],
      "text/plain": [
       "                                                         0              1\n",
       "Accident_Index                               201401BS70001  201401BS70002\n",
       "Location_Easting_OSGR                               524600         525780\n",
       "Location_Northing_OSGR                              179020         178290\n",
       "Longitude                                        -0.206443      -0.189713\n",
       "Latitude                                           51.4963        51.4895\n",
       "Police_Force                                             1              1\n",
       "Accident_Severity                                        3              3\n",
       "Number_of_Vehicles                                       2              2\n",
       "Number_of_Casualties                                     1              1\n",
       "Date                                            09/01/2014     20/01/2014\n",
       "Day_of_Week                                              5              2\n",
       "Time                                                 13:21          23:00\n",
       "Local_Authority_(District)                              12             12\n",
       "Local_Authority_(Highway)                        E09000020      E09000020\n",
       "1st_Road_Class                                           3              3\n",
       "1st_Road_Number                                        315           3218\n",
       "Road_Type                                                6              6\n",
       "Speed_limit                                             30             30\n",
       "Junction_Detail                                          0              5\n",
       "Junction_Control                                        -1              4\n",
       "2nd_Road_Class                                          -1              3\n",
       "2nd_Road_Number                                          0           3220\n",
       "Pedestrian_Crossing-Human_Control                        0              0\n",
       "Pedestrian_Crossing-Physical_Facilities                  0              5\n",
       "Light_Conditions                                         1              7\n",
       "Weather_Conditions                                       2              1\n",
       "Road_Surface_Conditions                                  2              1\n",
       "Special_Conditions_at_Site                               0              0\n",
       "Carriageway_Hazards                                      0              0\n",
       "Urban_or_Rural_Area                                      1              1\n",
       "Did_Police_Officer_Attend_Scene_of_Accident              2              2\n",
       "LSOA_of_Accident_Location                        E01002814      E01002894"
      ]
     },
     "execution_count": 2,
     "metadata": {},
     "output_type": "execute_result"
    }
   ],
   "source": [
    "df = pd.read_csv(\"DfTRoadSafety_Accidents_2014.csv\")\n",
    "df.head(2).T"
   ]
  },
  {
   "cell_type": "markdown",
   "metadata": {},
   "source": [
    "### Convert date time "
   ]
  },
  {
   "cell_type": "code",
   "execution_count": 4,
   "metadata": {},
   "outputs": [],
   "source": [
    "def to_hour(time):\n",
    "    try:\n",
    "        hour = datetime.strptime(str(time), '%H:%M')\n",
    "        return int(datetime.strftime(hour, '%H'))\n",
    "    except Exception:\n",
    "        return 0\n",
    "\n",
    "df['Date'] = pd.to_datetime(df['Date'], format='%d/%m/%Y')\n",
    "df['Month'] = df['Date'].dt.month\n",
    "df['Day'] = df['Date'].dt.day\n",
    "df['Hour_of_Day'] = df['Time'].apply(to_hour)\n",
    "df[\"isWeekend\"] = pd.to_datetime(df['Date'], format='%d/%m/%Y').apply(lambda x:  1.0 if x.weekday()>=5 else 0.0)"
   ]
  },
  {
   "cell_type": "markdown",
   "metadata": {},
   "source": [
    "### Selected Features based on previous analysis"
   ]
  },
  {
   "cell_type": "code",
   "execution_count": 5,
   "metadata": {},
   "outputs": [
    {
     "name": "stdout",
     "output_type": "stream",
     "text": [
      "XColumns :: ['Accident_Severity', 'Number_of_Vehicles', 'Day_of_Week', 'Hour_of_Day', 'Weather_Conditions', 'Police_Force', 'Location_Northing_OSGR', 'Location_Easting_OSGR', '1st_Road_Number', 'Speed_limit']\n",
      "yColumns :: ['Did_Police_Officer_Attend_Scene_of_Accident']\n"
     ]
    }
   ],
   "source": [
    "list1 = [\"Accident_Severity\", \"Number_of_Vehicles\"]#, \"Number_of_Casualties\"]\n",
    "list2 = [\"Day_of_Week\" ,\"Hour_of_Day\"]\n",
    "list3 = [\"Weather_Conditions\"]#, \"Light_Conditions\"]\n",
    "list4 = [\"Police_Force\"] #,\"Local_Authority_(District)\"]\n",
    "list5 = [\"Location_Northing_OSGR\",\"Location_Easting_OSGR\"]\n",
    "list6 = [\"1st_Road_Number\",\"Speed_limit\"]#,\"2nd_Road_Number\",]\n",
    "XColumns = list1 + list2 + list3 + list4 + list5 + list6\n",
    "yColumns = [\"Did_Police_Officer_Attend_Scene_of_Accident\"]\n",
    "print(\"XColumns :: {}\".format(XColumns))\n",
    "print(\"yColumns :: {}\".format(yColumns))"
   ]
  },
  {
   "cell_type": "code",
   "execution_count": 7,
   "metadata": {},
   "outputs": [
    {
     "ename": "TypeError",
     "evalue": "unsupported operand type(s) for +: 'set' and 'set'",
     "output_type": "error",
     "traceback": [
      "\u001b[0;31m\u001b[0m",
      "\u001b[0;31mTypeError\u001b[0mTraceback (most recent call last)",
      "\u001b[0;32m<ipython-input-7-e7d5bcf27e41>\u001b[0m in \u001b[0;36m<module>\u001b[0;34m\u001b[0m\n\u001b[1;32m      4\u001b[0m \u001b[0mfloat64_columns\u001b[0m \u001b[0;34m=\u001b[0m \u001b[0mset\u001b[0m\u001b[0;34m(\u001b[0m\u001b[0;34m[\u001b[0m\u001b[0;34m\"Longitude\"\u001b[0m\u001b[0;34m,\u001b[0m\u001b[0;34m\"Latitude\"\u001b[0m\u001b[0;34m]\u001b[0m\u001b[0;34m)\u001b[0m\u001b[0;34m\u001b[0m\u001b[0;34m\u001b[0m\u001b[0m\n\u001b[1;32m      5\u001b[0m \u001b[0mhighly_variable_features\u001b[0m \u001b[0;34m=\u001b[0m \u001b[0mset\u001b[0m\u001b[0;34m(\u001b[0m\u001b[0;34m[\u001b[0m\u001b[0;34m\"2nd_Road_Number\"\u001b[0m\u001b[0;34m,\u001b[0m\u001b[0;34m\"1st_Road_Number\"\u001b[0m\u001b[0;34m,\u001b[0m\u001b[0;34m\"Local_Authority_(District)\"\u001b[0m\u001b[0;34m,\u001b[0m\u001b[0;34m\"Location_Northing_OSGR\"\u001b[0m\u001b[0;34m,\u001b[0m\u001b[0;34m\"Location_Easting_OSGR\"\u001b[0m\u001b[0;34m]\u001b[0m\u001b[0;34m)\u001b[0m\u001b[0;34m\u001b[0m\u001b[0;34m\u001b[0m\u001b[0m\n\u001b[0;32m----> 6\u001b[0;31m \u001b[0mint64_columns\u001b[0m \u001b[0;34m=\u001b[0m \u001b[0mset\u001b[0m\u001b[0;34m(\u001b[0m\u001b[0mdf\u001b[0m\u001b[0;34m.\u001b[0m\u001b[0mcolumns\u001b[0m\u001b[0;34m)\u001b[0m\u001b[0;34m-\u001b[0m\u001b[0mindexColumns\u001b[0m\u001b[0;34m-\u001b[0m\u001b[0mobject_columns\u001b[0m\u001b[0;34m-\u001b[0m\u001b[0mfloat64_columns\u001b[0m\u001b[0;34m+\u001b[0m\u001b[0mset\u001b[0m\u001b[0;34m(\u001b[0m\u001b[0;34m[\u001b[0m\u001b[0;34m\"isWeekend\"\u001b[0m\u001b[0;34m]\u001b[0m\u001b[0;34m)\u001b[0m\u001b[0;34m\u001b[0m\u001b[0;34m\u001b[0m\u001b[0m\n\u001b[0m\u001b[1;32m      7\u001b[0m \u001b[0mXColumns\u001b[0m \u001b[0;34m=\u001b[0m \u001b[0mlist\u001b[0m\u001b[0;34m(\u001b[0m\u001b[0mint64_columns\u001b[0m\u001b[0;34m-\u001b[0m\u001b[0mset\u001b[0m\u001b[0;34m(\u001b[0m\u001b[0mcolumnY\u001b[0m\u001b[0;34m)\u001b[0m\u001b[0;34m-\u001b[0m\u001b[0mhighly_variable_features\u001b[0m\u001b[0;34m)\u001b[0m\u001b[0;34m\u001b[0m\u001b[0;34m\u001b[0m\u001b[0m\n\u001b[1;32m      8\u001b[0m \u001b[0myColumns\u001b[0m \u001b[0;34m=\u001b[0m \u001b[0;34m[\u001b[0m\u001b[0;34m\"Did_Police_Officer_Attend_Scene_of_Accident\"\u001b[0m\u001b[0;34m]\u001b[0m\u001b[0;34m\u001b[0m\u001b[0;34m\u001b[0m\u001b[0m\n",
      "\u001b[0;31mTypeError\u001b[0m: unsupported operand type(s) for +: 'set' and 'set'"
     ]
    }
   ],
   "source": [
    "indexColumns = set([\"Accident_Index\"])\n",
    "columnY = [\"Did_Police_Officer_Attend_Scene_of_Accident\"]\n",
    "object_columns = set([\"Date\",\"Time\",\"Local_Authority_(Highway)\",\"LSOA_of_Accident_Location\"])\n",
    "float64_columns = set([\"Longitude\",\"Latitude\"])\n",
    "highly_variable_features = set([\"2nd_Road_Number\",\"1st_Road_Number\",\"Local_Authority_(District)\",\"Location_Northing_OSGR\",\"Location_Easting_OSGR\"])\n",
    "int64_columns = set(df.columns.tolist()++set([\"isWeekend\"])-indexColumns-object_columns-float64_columns\n",
    "XColumns = list(int64_columns-set(columnY)-highly_variable_features)\n",
    "yColumns = [\"Did_Police_Officer_Attend_Scene_of_Accident\"]"
   ]
  },
  {
   "cell_type": "code",
   "execution_count": 111,
   "metadata": {},
   "outputs": [
    {
     "data": {
      "text/plain": [
       "Special_Conditions_at_Site                  9\n",
       "Light_Conditions                            5\n",
       "Carriageway_Hazards                         7\n",
       "Hour_of_Day                                24\n",
       "Urban_or_Rural_Area                         2\n",
       "2nd_Road_Class                              7\n",
       "Day_of_Week                                 7\n",
       "Junction_Detail                             9\n",
       "Police_Force                               51\n",
       "Number_of_Vehicles                         14\n",
       "Speed_limit                                 6\n",
       "Number_of_Casualties                       26\n",
       "1st_Road_Class                              6\n",
       "Weather_Conditions                          9\n",
       "Accident_Severity                           3\n",
       "Road_Surface_Conditions                     6\n",
       "Junction_Control                            5\n",
       "Month                                      12\n",
       "Road_Type                                   6\n",
       "Pedestrian_Crossing-Physical_Facilities     6\n",
       "Count                                       1\n",
       "Pedestrian_Crossing-Human_Control           3\n",
       "Day                                        31\n",
       "dtype: int64"
      ]
     },
     "execution_count": 111,
     "metadata": {},
     "output_type": "execute_result"
    }
   ],
   "source": [
    "df[XColumns].nunique()"
   ]
  },
  {
   "cell_type": "markdown",
   "metadata": {},
   "source": [
    "### Create Feature Encoding for both input features and target variables"
   ]
  },
  {
   "cell_type": "code",
   "execution_count": 112,
   "metadata": {},
   "outputs": [
    {
     "data": {
      "text/plain": [
       "OneHotEncoder(categorical_features=None, categories='auto', drop=None,\n",
       "              dtype=<class 'numpy.float64'>, handle_unknown='error',\n",
       "              n_values=None, sparse=False)"
      ]
     },
     "execution_count": 112,
     "metadata": {},
     "output_type": "execute_result"
    }
   ],
   "source": [
    "X = df[XColumns]\n",
    "y = df[yColumns].replace({2:0.0,1:1.0})\n",
    "categorical_features = [c not in  [\"Location_Northing_OSGR\",\"Location_Easting_OSGR\",\"1st_Road_Number\"]  for c in XColumns ]\n",
    "oneHotEncX = preprocessing.OneHotEncoder(categories=\"auto\",sparse=False,categorical_features=None)\n",
    "oneHotEncX.fit(X)"
   ]
  },
  {
   "cell_type": "markdown",
   "metadata": {},
   "source": [
    "### Split data into train and test data set "
   ]
  },
  {
   "cell_type": "code",
   "execution_count": 113,
   "metadata": {},
   "outputs": [
    {
     "name": "stdout",
     "output_type": "stream",
     "text": [
      "Train :: 1.0    80095\n",
      "0.0    17940\n",
      "Name: Did_Police_Officer_Attend_Scene_of_Accident, dtype: int64\n",
      "Test :: 1.0    39512\n",
      "0.0     8775\n",
      "Name: Did_Police_Officer_Attend_Scene_of_Accident, dtype: int64\n"
     ]
    }
   ],
   "source": [
    "X_train, X_test, y_train, y_test = train_test_split(X, y, test_size=0.33, random_state=42)\n",
    "print(\"Train :: {}\".format(y_train.Did_Police_Officer_Attend_Scene_of_Accident.value_counts()))\n",
    "print(\"Test :: {}\".format(y_test.Did_Police_Officer_Attend_Scene_of_Accident.value_counts()))"
   ]
  },
  {
   "cell_type": "markdown",
   "metadata": {},
   "source": [
    "### Data Augmentation to reduce skewness in data"
   ]
  },
  {
   "cell_type": "code",
   "execution_count": null,
   "metadata": {},
   "outputs": [],
   "source": []
  },
  {
   "cell_type": "code",
   "execution_count": 128,
   "metadata": {},
   "outputs": [],
   "source": [
    "smt = imblearn.combine.SMOTEENN(sampling_strategy=0.8) #SMOTE()\n",
    "XTrainSMOTEENN, yTrainSMOTEENN = smt.fit_sample(X_train, y_train.Did_Police_Officer_Attend_Scene_of_Accident)"
   ]
  },
  {
   "cell_type": "code",
   "execution_count": 126,
   "metadata": {},
   "outputs": [
    {
     "name": "stderr",
     "output_type": "stream",
     "text": [
      "/opt/conda/lib/python3.6/site-packages/sklearn/utils/validation.py:724: DataConversionWarning: A column-vector y was passed when a 1d array was expected. Please change the shape of y to (n_samples, ), for example using ravel().\n",
      "  y = column_or_1d(y, warn=True)\n",
      "/opt/conda/lib/python3.6/site-packages/sklearn/linear_model/stochastic_gradient.py:561: ConvergenceWarning: Maximum number of iteration reached before convergence. Consider increasing max_iter to improve the fit.\n",
      "  ConvergenceWarning)\n"
     ]
    },
    {
     "name": "stdout",
     "output_type": "stream",
     "text": [
      "Balanced Accuracy :: 0.5072248727928015\n",
      "Classification Report ::               precision    recall  f1-score   support\n",
      "\n",
      "         0.0       0.54      0.02      0.03      8775\n",
      "         1.0       0.82      1.00      0.90     39512\n",
      "\n",
      "    accuracy                           0.82     48287\n",
      "   macro avg       0.68      0.51      0.47     48287\n",
      "weighted avg       0.77      0.82      0.74     48287\n",
      "\n"
     ]
    }
   ],
   "source": [
    "sgd = SGDClassifier(loss=\"perceptron\", penalty=\"elasticnet\",learning_rate=\"adaptive\",max_iter=1000,\n",
    "                    alpha=0.0001, l1_ratio=0.15, fit_intercept=True,tol=0.01, shuffle=True, \n",
    "                    verbose=0, epsilon=0.1, n_jobs=4, random_state=None,eta0=0.0001, power_t=0.5, \n",
    "                    early_stopping=False,validation_fraction=0.1, n_iter_no_change=50, \n",
    "                    class_weight=\"balanced\", warm_start=True, average=False)\n",
    "sgd.fit(XTrainSMOTEENN,yTrainSMOTEENN)\n",
    "# sgd.fit(oneHotEncX.transform(X_train),y_train)\n",
    "prediction = sgd.predict(oneHotEncX.transform(X_test))\n",
    "print(\"Balanced Accuracy :: {}\".format(balanced_accuracy_score(y_test,prediction)))\n",
    "print(\"Classification Report :: {}\".format(classification_report(y_test,prediction,output_dict=False)))"
   ]
  },
  {
   "cell_type": "code",
   "execution_count": 129,
   "metadata": {},
   "outputs": [
    {
     "name": "stdout",
     "output_type": "stream",
     "text": [
      "[[ 2482  6293]\n",
      " [ 6208 33304]]\n"
     ]
    }
   ],
   "source": [
    "##\n",
    "\n",
    "print(confusion_matrix(y_test,prediction))\n",
    "\n",
    "\n",
    "\n",
    "##"
   ]
  },
  {
   "cell_type": "code",
   "execution_count": 93,
   "metadata": {},
   "outputs": [
    {
     "data": {
      "text/plain": [
       "array([[ 8775,     0],\n",
       "       [39512,     0]])"
      ]
     },
     "execution_count": 93,
     "metadata": {},
     "output_type": "execute_result"
    }
   ],
   "source": []
  },
  {
   "cell_type": "code",
   "execution_count": 26,
   "metadata": {},
   "outputs": [
    {
     "data": {
      "text/plain": [
       "2    39783\n",
       "1    38043\n",
       "dtype: int64"
      ]
     },
     "execution_count": 26,
     "metadata": {},
     "output_type": "execute_result"
    }
   ],
   "source": [
    "pd.value_counts(y_test.Did_Police_Officer_Attend_Scene_of_Accident)\n",
    "pd.value_counts(yTrainSMOTEENN)"
   ]
  },
  {
   "cell_type": "code",
   "execution_count": 127,
   "metadata": {},
   "outputs": [
    {
     "name": "stdout",
     "output_type": "stream",
     "text": [
      "[[ 2482  6293]\n",
      " [ 6208 33304]]\n"
     ]
    },
    {
     "data": {
      "text/plain": [
       "'              precision    recall  f1-score   support\\n\\n         0.0       0.29      0.28      0.28      8775\\n         1.0       0.84      0.84      0.84     39512\\n\\n    accuracy                           0.74     48287\\n   macro avg       0.56      0.56      0.56     48287\\nweighted avg       0.74      0.74      0.74     48287\\n'"
      ]
     },
     "execution_count": 127,
     "metadata": {},
     "output_type": "execute_result"
    }
   ],
   "source": [
    "dtc = DecisionTreeClassifier()\n",
    "# sgd.fit(XTrainSMOTEENN,yTrainSMOTEENN)\n",
    "# dtc.fit(X_train,y_train)\n",
    "# prediction = dtc.predict(X_test)\n",
    "dtc.fit(oneHotEncX.transform(X_train),y_train)\n",
    "prediction = dtc.predict(oneHotEncX.transform(X_test))\n",
    "# print(\"Balanced Accuracy :: {}\".format(balanced_accuracy_score(y_test,prediction)))\n",
    "# print(\"Classification Report :: {}\".format(classification_report(y_test,prediction,output_dict=False)))\n",
    "print(confusion_matrix(y_test,prediction))\n",
    "classification_report(y_test,prediction)"
   ]
  },
  {
   "cell_type": "code",
   "execution_count": 4,
   "metadata": {},
   "outputs": [],
   "source": [
    "sgd_list = [\"performance_matrix_sgd\" + str(c+1) for c in range(14)]"
   ]
  },
  {
   "cell_type": "code",
   "execution_count": 5,
   "metadata": {},
   "outputs": [
    {
     "data": {
      "text/plain": [
       "['performance_matrix_sgd1',\n",
       " 'performance_matrix_sgd2',\n",
       " 'performance_matrix_sgd3',\n",
       " 'performance_matrix_sgd4',\n",
       " 'performance_matrix_sgd5',\n",
       " 'performance_matrix_sgd6',\n",
       " 'performance_matrix_sgd7',\n",
       " 'performance_matrix_sgd8',\n",
       " 'performance_matrix_sgd9',\n",
       " 'performance_matrix_sgd10',\n",
       " 'performance_matrix_sgd11',\n",
       " 'performance_matrix_sgd12',\n",
       " 'performance_matrix_sgd13',\n",
       " 'performance_matrix_sgd14']"
      ]
     },
     "execution_count": 5,
     "metadata": {},
     "output_type": "execute_result"
    }
   ],
   "source": [
    "sgd_list"
   ]
  },
  {
   "cell_type": "code",
   "execution_count": null,
   "metadata": {},
   "outputs": [],
   "source": []
  }
 ],
 "metadata": {
  "kernelspec": {
   "display_name": "Python 3",
   "language": "python",
   "name": "python3"
  },
  "language_info": {
   "codemirror_mode": {
    "name": "ipython",
    "version": 2
   },
   "file_extension": ".py",
   "mimetype": "text/x-python",
   "name": "python",
   "nbconvert_exporter": "python",
   "pygments_lexer": "ipython2",
   "version": "2.7.5"
  }
 },
 "nbformat": 4,
 "nbformat_minor": 4
}
