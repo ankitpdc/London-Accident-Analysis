{
 "cells": [
  {
   "cell_type": "code",
   "execution_count": 23,
   "metadata": {},
   "outputs": [],
   "source": [
    "import matplotlib.pyplot as plt\n",
    "import pandas as pd\n",
    "import numpy as np\n",
    "import seaborn as sns\n",
    "from datetime import datetime\n",
    "\n",
    "from sklearn.preprocessing import OneHotEncoder, LabelEncoder\n",
    "from sklearn.tree import DecisionTreeClassifier\n",
    "from sklearn.naive_bayes import GaussianNB\n",
    "from xgboost import XGBClassifier\n",
    "from sklearn.ensemble import RandomForestRegressor\n",
    "from sklearn.linear_model import LogisticRegression\n",
    "from sklearn.svm import SVC, LinearSVC\n",
    "from sklearn.ensemble import RandomForestClassifier\n",
    "from sklearn.linear_model import Perceptron\n",
    "from sklearn.linear_model import SGDClassifier\n",
    "from sklearn.metrics import classification_report, confusion_matrix, accuracy_score"
   ]
  },
  {
   "cell_type": "code",
   "execution_count": 2,
   "metadata": {},
   "outputs": [],
   "source": [
    "df = pd.read_csv(\"DfTRoadSafety_Accidents_2014.csv\")"
   ]
  },
  {
   "cell_type": "code",
   "execution_count": 12,
   "metadata": {},
   "outputs": [
    {
     "data": {
      "text/html": [
       "<div>\n",
       "<style scoped>\n",
       "    .dataframe tbody tr th:only-of-type {\n",
       "        vertical-align: middle;\n",
       "    }\n",
       "\n",
       "    .dataframe tbody tr th {\n",
       "        vertical-align: top;\n",
       "    }\n",
       "\n",
       "    .dataframe thead th {\n",
       "        text-align: right;\n",
       "    }\n",
       "</style>\n",
       "<table border=\"1\" class=\"dataframe\">\n",
       "  <thead>\n",
       "    <tr style=\"text-align: right;\">\n",
       "      <th></th>\n",
       "      <th>0</th>\n",
       "      <th>1</th>\n",
       "      <th>2</th>\n",
       "      <th>3</th>\n",
       "      <th>4</th>\n",
       "    </tr>\n",
       "  </thead>\n",
       "  <tbody>\n",
       "    <tr>\n",
       "      <th>Accident_Index</th>\n",
       "      <td>201401BS70001</td>\n",
       "      <td>201401BS70002</td>\n",
       "      <td>201401BS70003</td>\n",
       "      <td>201401BS70004</td>\n",
       "      <td>201401BS70006</td>\n",
       "    </tr>\n",
       "    <tr>\n",
       "      <th>Location_Easting_OSGR</th>\n",
       "      <td>524600</td>\n",
       "      <td>525780</td>\n",
       "      <td>526880</td>\n",
       "      <td>525580</td>\n",
       "      <td>527040</td>\n",
       "    </tr>\n",
       "    <tr>\n",
       "      <th>Location_Northing_OSGR</th>\n",
       "      <td>179020</td>\n",
       "      <td>178290</td>\n",
       "      <td>178430</td>\n",
       "      <td>179080</td>\n",
       "      <td>179030</td>\n",
       "    </tr>\n",
       "    <tr>\n",
       "      <th>Longitude</th>\n",
       "      <td>-0.206443</td>\n",
       "      <td>-0.189713</td>\n",
       "      <td>-0.173827</td>\n",
       "      <td>-0.192311</td>\n",
       "      <td>-0.171308</td>\n",
       "    </tr>\n",
       "    <tr>\n",
       "      <th>Latitude</th>\n",
       "      <td>51.4963</td>\n",
       "      <td>51.4895</td>\n",
       "      <td>51.4905</td>\n",
       "      <td>51.4967</td>\n",
       "      <td>51.4959</td>\n",
       "    </tr>\n",
       "    <tr>\n",
       "      <th>Police_Force</th>\n",
       "      <td>1</td>\n",
       "      <td>1</td>\n",
       "      <td>1</td>\n",
       "      <td>1</td>\n",
       "      <td>1</td>\n",
       "    </tr>\n",
       "    <tr>\n",
       "      <th>Accident_Severity</th>\n",
       "      <td>3</td>\n",
       "      <td>3</td>\n",
       "      <td>3</td>\n",
       "      <td>3</td>\n",
       "      <td>3</td>\n",
       "    </tr>\n",
       "    <tr>\n",
       "      <th>Number_of_Vehicles</th>\n",
       "      <td>2</td>\n",
       "      <td>2</td>\n",
       "      <td>2</td>\n",
       "      <td>1</td>\n",
       "      <td>2</td>\n",
       "    </tr>\n",
       "    <tr>\n",
       "      <th>Number_of_Casualties</th>\n",
       "      <td>1</td>\n",
       "      <td>1</td>\n",
       "      <td>1</td>\n",
       "      <td>1</td>\n",
       "      <td>1</td>\n",
       "    </tr>\n",
       "    <tr>\n",
       "      <th>Date</th>\n",
       "      <td>09/01/2014</td>\n",
       "      <td>20/01/2014</td>\n",
       "      <td>21/01/2014</td>\n",
       "      <td>15/01/2014</td>\n",
       "      <td>09/01/2014</td>\n",
       "    </tr>\n",
       "    <tr>\n",
       "      <th>Day_of_Week</th>\n",
       "      <td>5</td>\n",
       "      <td>2</td>\n",
       "      <td>3</td>\n",
       "      <td>4</td>\n",
       "      <td>5</td>\n",
       "    </tr>\n",
       "    <tr>\n",
       "      <th>Time</th>\n",
       "      <td>13:21</td>\n",
       "      <td>23:00</td>\n",
       "      <td>10:40</td>\n",
       "      <td>17:45</td>\n",
       "      <td>08:50</td>\n",
       "    </tr>\n",
       "    <tr>\n",
       "      <th>Local_Authority_(District)</th>\n",
       "      <td>12</td>\n",
       "      <td>12</td>\n",
       "      <td>12</td>\n",
       "      <td>12</td>\n",
       "      <td>12</td>\n",
       "    </tr>\n",
       "    <tr>\n",
       "      <th>Local_Authority_(Highway)</th>\n",
       "      <td>E09000020</td>\n",
       "      <td>E09000020</td>\n",
       "      <td>E09000020</td>\n",
       "      <td>E09000020</td>\n",
       "      <td>E09000020</td>\n",
       "    </tr>\n",
       "    <tr>\n",
       "      <th>1st_Road_Class</th>\n",
       "      <td>3</td>\n",
       "      <td>3</td>\n",
       "      <td>3</td>\n",
       "      <td>5</td>\n",
       "      <td>3</td>\n",
       "    </tr>\n",
       "    <tr>\n",
       "      <th>1st_Road_Number</th>\n",
       "      <td>315</td>\n",
       "      <td>3218</td>\n",
       "      <td>308</td>\n",
       "      <td>0</td>\n",
       "      <td>4</td>\n",
       "    </tr>\n",
       "    <tr>\n",
       "      <th>Road_Type</th>\n",
       "      <td>6</td>\n",
       "      <td>6</td>\n",
       "      <td>6</td>\n",
       "      <td>6</td>\n",
       "      <td>6</td>\n",
       "    </tr>\n",
       "    <tr>\n",
       "      <th>Speed_limit</th>\n",
       "      <td>30</td>\n",
       "      <td>30</td>\n",
       "      <td>30</td>\n",
       "      <td>30</td>\n",
       "      <td>30</td>\n",
       "    </tr>\n",
       "    <tr>\n",
       "      <th>Junction_Detail</th>\n",
       "      <td>0</td>\n",
       "      <td>5</td>\n",
       "      <td>3</td>\n",
       "      <td>3</td>\n",
       "      <td>7</td>\n",
       "    </tr>\n",
       "    <tr>\n",
       "      <th>Junction_Control</th>\n",
       "      <td>-1</td>\n",
       "      <td>4</td>\n",
       "      <td>4</td>\n",
       "      <td>4</td>\n",
       "      <td>4</td>\n",
       "    </tr>\n",
       "    <tr>\n",
       "      <th>2nd_Road_Class</th>\n",
       "      <td>-1</td>\n",
       "      <td>3</td>\n",
       "      <td>6</td>\n",
       "      <td>6</td>\n",
       "      <td>3</td>\n",
       "    </tr>\n",
       "    <tr>\n",
       "      <th>2nd_Road_Number</th>\n",
       "      <td>0</td>\n",
       "      <td>3220</td>\n",
       "      <td>0</td>\n",
       "      <td>0</td>\n",
       "      <td>4</td>\n",
       "    </tr>\n",
       "    <tr>\n",
       "      <th>Pedestrian_Crossing-Human_Control</th>\n",
       "      <td>0</td>\n",
       "      <td>0</td>\n",
       "      <td>0</td>\n",
       "      <td>0</td>\n",
       "      <td>0</td>\n",
       "    </tr>\n",
       "    <tr>\n",
       "      <th>Pedestrian_Crossing-Physical_Facilities</th>\n",
       "      <td>0</td>\n",
       "      <td>5</td>\n",
       "      <td>0</td>\n",
       "      <td>1</td>\n",
       "      <td>8</td>\n",
       "    </tr>\n",
       "    <tr>\n",
       "      <th>Light_Conditions</th>\n",
       "      <td>1</td>\n",
       "      <td>7</td>\n",
       "      <td>1</td>\n",
       "      <td>4</td>\n",
       "      <td>1</td>\n",
       "    </tr>\n",
       "    <tr>\n",
       "      <th>Weather_Conditions</th>\n",
       "      <td>2</td>\n",
       "      <td>1</td>\n",
       "      <td>1</td>\n",
       "      <td>1</td>\n",
       "      <td>1</td>\n",
       "    </tr>\n",
       "    <tr>\n",
       "      <th>Road_Surface_Conditions</th>\n",
       "      <td>2</td>\n",
       "      <td>1</td>\n",
       "      <td>1</td>\n",
       "      <td>1</td>\n",
       "      <td>1</td>\n",
       "    </tr>\n",
       "    <tr>\n",
       "      <th>Special_Conditions_at_Site</th>\n",
       "      <td>0</td>\n",
       "      <td>0</td>\n",
       "      <td>0</td>\n",
       "      <td>0</td>\n",
       "      <td>0</td>\n",
       "    </tr>\n",
       "    <tr>\n",
       "      <th>Carriageway_Hazards</th>\n",
       "      <td>0</td>\n",
       "      <td>0</td>\n",
       "      <td>0</td>\n",
       "      <td>0</td>\n",
       "      <td>0</td>\n",
       "    </tr>\n",
       "    <tr>\n",
       "      <th>Urban_or_Rural_Area</th>\n",
       "      <td>1</td>\n",
       "      <td>1</td>\n",
       "      <td>1</td>\n",
       "      <td>1</td>\n",
       "      <td>1</td>\n",
       "    </tr>\n",
       "    <tr>\n",
       "      <th>Did_Police_Officer_Attend_Scene_of_Accident</th>\n",
       "      <td>2</td>\n",
       "      <td>2</td>\n",
       "      <td>1</td>\n",
       "      <td>2</td>\n",
       "      <td>1</td>\n",
       "    </tr>\n",
       "    <tr>\n",
       "      <th>LSOA_of_Accident_Location</th>\n",
       "      <td>E01002814</td>\n",
       "      <td>E01002894</td>\n",
       "      <td>E01002822</td>\n",
       "      <td>E01002812</td>\n",
       "      <td>E01002821</td>\n",
       "    </tr>\n",
       "  </tbody>\n",
       "</table>\n",
       "</div>"
      ],
      "text/plain": [
       "                                                         0              1  \\\n",
       "Accident_Index                               201401BS70001  201401BS70002   \n",
       "Location_Easting_OSGR                               524600         525780   \n",
       "Location_Northing_OSGR                              179020         178290   \n",
       "Longitude                                        -0.206443      -0.189713   \n",
       "Latitude                                           51.4963        51.4895   \n",
       "Police_Force                                             1              1   \n",
       "Accident_Severity                                        3              3   \n",
       "Number_of_Vehicles                                       2              2   \n",
       "Number_of_Casualties                                     1              1   \n",
       "Date                                            09/01/2014     20/01/2014   \n",
       "Day_of_Week                                              5              2   \n",
       "Time                                                 13:21          23:00   \n",
       "Local_Authority_(District)                              12             12   \n",
       "Local_Authority_(Highway)                        E09000020      E09000020   \n",
       "1st_Road_Class                                           3              3   \n",
       "1st_Road_Number                                        315           3218   \n",
       "Road_Type                                                6              6   \n",
       "Speed_limit                                             30             30   \n",
       "Junction_Detail                                          0              5   \n",
       "Junction_Control                                        -1              4   \n",
       "2nd_Road_Class                                          -1              3   \n",
       "2nd_Road_Number                                          0           3220   \n",
       "Pedestrian_Crossing-Human_Control                        0              0   \n",
       "Pedestrian_Crossing-Physical_Facilities                  0              5   \n",
       "Light_Conditions                                         1              7   \n",
       "Weather_Conditions                                       2              1   \n",
       "Road_Surface_Conditions                                  2              1   \n",
       "Special_Conditions_at_Site                               0              0   \n",
       "Carriageway_Hazards                                      0              0   \n",
       "Urban_or_Rural_Area                                      1              1   \n",
       "Did_Police_Officer_Attend_Scene_of_Accident              2              2   \n",
       "LSOA_of_Accident_Location                        E01002814      E01002894   \n",
       "\n",
       "                                                         2              3  \\\n",
       "Accident_Index                               201401BS70003  201401BS70004   \n",
       "Location_Easting_OSGR                               526880         525580   \n",
       "Location_Northing_OSGR                              178430         179080   \n",
       "Longitude                                        -0.173827      -0.192311   \n",
       "Latitude                                           51.4905        51.4967   \n",
       "Police_Force                                             1              1   \n",
       "Accident_Severity                                        3              3   \n",
       "Number_of_Vehicles                                       2              1   \n",
       "Number_of_Casualties                                     1              1   \n",
       "Date                                            21/01/2014     15/01/2014   \n",
       "Day_of_Week                                              3              4   \n",
       "Time                                                 10:40          17:45   \n",
       "Local_Authority_(District)                              12             12   \n",
       "Local_Authority_(Highway)                        E09000020      E09000020   \n",
       "1st_Road_Class                                           3              5   \n",
       "1st_Road_Number                                        308              0   \n",
       "Road_Type                                                6              6   \n",
       "Speed_limit                                             30             30   \n",
       "Junction_Detail                                          3              3   \n",
       "Junction_Control                                         4              4   \n",
       "2nd_Road_Class                                           6              6   \n",
       "2nd_Road_Number                                          0              0   \n",
       "Pedestrian_Crossing-Human_Control                        0              0   \n",
       "Pedestrian_Crossing-Physical_Facilities                  0              1   \n",
       "Light_Conditions                                         1              4   \n",
       "Weather_Conditions                                       1              1   \n",
       "Road_Surface_Conditions                                  1              1   \n",
       "Special_Conditions_at_Site                               0              0   \n",
       "Carriageway_Hazards                                      0              0   \n",
       "Urban_or_Rural_Area                                      1              1   \n",
       "Did_Police_Officer_Attend_Scene_of_Accident              1              2   \n",
       "LSOA_of_Accident_Location                        E01002822      E01002812   \n",
       "\n",
       "                                                         4  \n",
       "Accident_Index                               201401BS70006  \n",
       "Location_Easting_OSGR                               527040  \n",
       "Location_Northing_OSGR                              179030  \n",
       "Longitude                                        -0.171308  \n",
       "Latitude                                           51.4959  \n",
       "Police_Force                                             1  \n",
       "Accident_Severity                                        3  \n",
       "Number_of_Vehicles                                       2  \n",
       "Number_of_Casualties                                     1  \n",
       "Date                                            09/01/2014  \n",
       "Day_of_Week                                              5  \n",
       "Time                                                 08:50  \n",
       "Local_Authority_(District)                              12  \n",
       "Local_Authority_(Highway)                        E09000020  \n",
       "1st_Road_Class                                           3  \n",
       "1st_Road_Number                                          4  \n",
       "Road_Type                                                6  \n",
       "Speed_limit                                             30  \n",
       "Junction_Detail                                          7  \n",
       "Junction_Control                                         4  \n",
       "2nd_Road_Class                                           3  \n",
       "2nd_Road_Number                                          4  \n",
       "Pedestrian_Crossing-Human_Control                        0  \n",
       "Pedestrian_Crossing-Physical_Facilities                  8  \n",
       "Light_Conditions                                         1  \n",
       "Weather_Conditions                                       1  \n",
       "Road_Surface_Conditions                                  1  \n",
       "Special_Conditions_at_Site                               0  \n",
       "Carriageway_Hazards                                      0  \n",
       "Urban_or_Rural_Area                                      1  \n",
       "Did_Police_Officer_Attend_Scene_of_Accident              1  \n",
       "LSOA_of_Accident_Location                        E01002821  "
      ]
     },
     "execution_count": 12,
     "metadata": {},
     "output_type": "execute_result"
    }
   ],
   "source": [
    "df.head().T"
   ]
  },
  {
   "cell_type": "code",
   "execution_count": 5,
   "metadata": {},
   "outputs": [
    {
     "data": {
      "text/plain": [
       "array(['Accident_Index', 'Location_Easting_OSGR',\n",
       "       'Location_Northing_OSGR', 'Longitude', 'Latitude', 'Police_Force',\n",
       "       'Accident_Severity', 'Number_of_Vehicles', 'Number_of_Casualties',\n",
       "       'Date', 'Day_of_Week', 'Time', 'Local_Authority_(District)',\n",
       "       'Local_Authority_(Highway)', '1st_Road_Class', '1st_Road_Number',\n",
       "       'Road_Type', 'Speed_limit', 'Junction_Detail', 'Junction_Control',\n",
       "       '2nd_Road_Class', '2nd_Road_Number',\n",
       "       'Pedestrian_Crossing-Human_Control',\n",
       "       'Pedestrian_Crossing-Physical_Facilities', 'Light_Conditions',\n",
       "       'Weather_Conditions', 'Road_Surface_Conditions',\n",
       "       'Special_Conditions_at_Site', 'Carriageway_Hazards',\n",
       "       'Urban_or_Rural_Area',\n",
       "       'Did_Police_Officer_Attend_Scene_of_Accident',\n",
       "       'LSOA_of_Accident_Location'], dtype=object)"
      ]
     },
     "execution_count": 5,
     "metadata": {},
     "output_type": "execute_result"
    }
   ],
   "source": [
    "df.columns.values"
   ]
  },
  {
   "cell_type": "markdown",
   "metadata": {},
   "source": [
    "## Check the Date Range "
   ]
  },
  {
   "cell_type": "code",
   "execution_count": 8,
   "metadata": {},
   "outputs": [
    {
     "name": "stderr",
     "output_type": "stream",
     "text": [
      "/anaconda3/lib/python3.7/site-packages/pandas/plotting/_converter.py:129: FutureWarning: Using an implicitly registered datetime converter for a matplotlib plotting method. The converter was registered by pandas on import. Future versions of pandas will require you to explicitly register matplotlib converters.\n",
      "\n",
      "To register the converters:\n",
      "\t>>> from pandas.plotting import register_matplotlib_converters\n",
      "\t>>> register_matplotlib_converters()\n",
      "  warnings.warn(msg, FutureWarning)\n"
     ]
    },
    {
     "data": {
      "text/plain": [
       "<matplotlib.axes._subplots.AxesSubplot at 0x1a1b9c5c18>"
      ]
     },
     "execution_count": 8,
     "metadata": {},
     "output_type": "execute_result"
    },
    {
     "data": {
      "image/png": "[encoded data removed]",
      "text/plain": [
       "<Figure size 432x288 with 1 Axes>"
      ]
     },
     "metadata": {
      "needs_background": "light"
     },
     "output_type": "display_data"
    }
   ],
   "source": [
    "pd.to_datetime(df.Date).hist()"
   ]
  },
  {
   "cell_type": "code",
   "execution_count": 6,
   "metadata": {},
   "outputs": [
    {
     "data": {
      "text/plain": [
       "Timestamp('2014-01-01 00:00:00')"
      ]
     },
     "execution_count": 6,
     "metadata": {},
     "output_type": "execute_result"
    }
   ],
   "source": [
    "pd.to_datetime(df.Date).min()"
   ]
  },
  {
   "cell_type": "code",
   "execution_count": 7,
   "metadata": {},
   "outputs": [
    {
     "data": {
      "text/plain": [
       "Timestamp('2014-12-31 00:00:00')"
      ]
     },
     "execution_count": 7,
     "metadata": {},
     "output_type": "execute_result"
    }
   ],
   "source": [
    "pd.to_datetime(df.Date).max()"
   ]
  },
  {
   "cell_type": "markdown",
   "metadata": {},
   "source": [
    "## Check for Duplicate Accidents"
   ]
  },
  {
   "cell_type": "code",
   "execution_count": 10,
   "metadata": {},
   "outputs": [
    {
     "data": {
      "text/plain": [
       "146322"
      ]
     },
     "execution_count": 10,
     "metadata": {},
     "output_type": "execute_result"
    }
   ],
   "source": [
    "df.Accident_Index.nunique()"
   ]
  },
  {
   "cell_type": "markdown",
   "metadata": {},
   "source": [
    "## Check for NULL values"
   ]
  },
  {
   "cell_type": "code",
   "execution_count": 11,
   "metadata": {},
   "outputs": [
    {
     "data": {
      "text/plain": [
       "Accident_Index                                    0\n",
       "Location_Easting_OSGR                             0\n",
       "Location_Northing_OSGR                            0\n",
       "Longitude                                         0\n",
       "Latitude                                          0\n",
       "Police_Force                                      0\n",
       "Accident_Severity                                 0\n",
       "Number_of_Vehicles                                0\n",
       "Number_of_Casualties                              0\n",
       "Date                                              0\n",
       "Day_of_Week                                       0\n",
       "Time                                              0\n",
       "Local_Authority_(District)                        0\n",
       "Local_Authority_(Highway)                         0\n",
       "1st_Road_Class                                    0\n",
       "1st_Road_Number                                   0\n",
       "Road_Type                                         0\n",
       "Speed_limit                                       0\n",
       "Junction_Detail                                   0\n",
       "Junction_Control                                  0\n",
       "2nd_Road_Class                                    0\n",
       "2nd_Road_Number                                   0\n",
       "Pedestrian_Crossing-Human_Control                 0\n",
       "Pedestrian_Crossing-Physical_Facilities           0\n",
       "Light_Conditions                                  0\n",
       "Weather_Conditions                                0\n",
       "Road_Surface_Conditions                           0\n",
       "Special_Conditions_at_Site                        0\n",
       "Carriageway_Hazards                               0\n",
       "Urban_or_Rural_Area                               0\n",
       "Did_Police_Officer_Attend_Scene_of_Accident       0\n",
       "LSOA_of_Accident_Location                      9277\n",
       "dtype: int64"
      ]
     },
     "execution_count": 11,
     "metadata": {},
     "output_type": "execute_result"
    }
   ],
   "source": [
    "df.apply(lambda x: sum(x.isnull()))"
   ]
  },
  {
   "cell_type": "code",
   "execution_count": 16,
   "metadata": {},
   "outputs": [
    {
     "data": {
      "text/plain": [
       "Accident_Index                                 146322\n",
       "Location_Easting_OSGR                           92575\n",
       "Location_Northing_OSGR                          96296\n",
       "Longitude                                      138878\n",
       "Latitude                                       137376\n",
       "Police_Force                                       51\n",
       "Accident_Severity                                   3\n",
       "Number_of_Vehicles                                 14\n",
       "Number_of_Casualties                               26\n",
       "Date                                              365\n",
       "Day_of_Week                                         7\n",
       "Time                                             1439\n",
       "Local_Authority_(District)                        380\n",
       "Local_Authority_(Highway)                         207\n",
       "1st_Road_Class                                      6\n",
       "1st_Road_Number                                  4384\n",
       "Road_Type                                           6\n",
       "Speed_limit                                         6\n",
       "Junction_Detail                                     9\n",
       "Junction_Control                                    5\n",
       "2nd_Road_Class                                      7\n",
       "2nd_Road_Number                                  3869\n",
       "Pedestrian_Crossing-Human_Control                   3\n",
       "Pedestrian_Crossing-Physical_Facilities             6\n",
       "Light_Conditions                                    5\n",
       "Weather_Conditions                                  9\n",
       "Road_Surface_Conditions                             6\n",
       "Special_Conditions_at_Site                          9\n",
       "Carriageway_Hazards                                 7\n",
       "Urban_or_Rural_Area                                 2\n",
       "Did_Police_Officer_Attend_Scene_of_Accident         2\n",
       "LSOA_of_Accident_Location                       29122\n",
       "dtype: int64"
      ]
     },
     "execution_count": 16,
     "metadata": {},
     "output_type": "execute_result"
    }
   ],
   "source": [
    "df.nunique()"
   ]
  },
  {
   "cell_type": "markdown",
   "metadata": {},
   "source": [
    "## As per Introduction tab in Safety Data Guide, the value \"-1\" is exported for NULL or out of range values"
   ]
  },
  {
   "cell_type": "code",
   "execution_count": 14,
   "metadata": {},
   "outputs": [
    {
     "data": {
      "text/plain": [
       "Accident_Index                                     0\n",
       "Location_Easting_OSGR                              0\n",
       "Location_Northing_OSGR                             0\n",
       "Longitude                                          0\n",
       "Latitude                                           0\n",
       "Police_Force                                       0\n",
       "Accident_Severity                                  0\n",
       "Number_of_Vehicles                                 0\n",
       "Number_of_Casualties                               0\n",
       "Date                                               0\n",
       "Day_of_Week                                        0\n",
       "Time                                               0\n",
       "Local_Authority_(District)                         0\n",
       "Local_Authority_(Highway)                          0\n",
       "1st_Road_Class                                     0\n",
       "1st_Road_Number                                    0\n",
       "Road_Type                                          0\n",
       "Speed_limit                                        0\n",
       "Junction_Detail                                    0\n",
       "Junction_Control                               56467\n",
       "2nd_Road_Class                                 56998\n",
       "2nd_Road_Number                                  616\n",
       "Pedestrian_Crossing-Human_Control                  0\n",
       "Pedestrian_Crossing-Physical_Facilities            0\n",
       "Light_Conditions                                   0\n",
       "Weather_Conditions                                 0\n",
       "Road_Surface_Conditions                          222\n",
       "Special_Conditions_at_Site                         1\n",
       "Carriageway_Hazards                                1\n",
       "Urban_or_Rural_Area                                0\n",
       "Did_Police_Officer_Attend_Scene_of_Accident        0\n",
       "LSOA_of_Accident_Location                       9277\n",
       "dtype: int64"
      ]
     },
     "execution_count": 14,
     "metadata": {},
     "output_type": "execute_result"
    }
   ],
   "source": [
    "df.replace({-1: None}).apply(lambda x: sum(x.isnull()))"
   ]
  },
  {
   "cell_type": "code",
   "execution_count": null,
   "metadata": {},
   "outputs": [],
   "source": []
  },
  {
   "cell_type": "markdown",
   "metadata": {},
   "source": [
    "# Observations: \n",
    "- Junction Control and 2nd Road Class has too many missing values. So we can drop those fields.\n",
    "- The cardinality of LSOA_of_Accident_Location is high and also there are more than 6% rows with NULL LSOA_of_Accident_Location values. We can drop this field.\n",
    "- We can drop 2nd_Road_Number, 1st_Road_Class, 1st_Road_Number as we are already dropping 2nd Road Class field at least for this study. If time permits, we will try to see whether we can derive any value from these features.\n",
    "- For Road_Surface_Conditions, Special_Conditions_at_Site, and Carriageway_Hazards fields - we can apply the most common value.\n",
    "- For this study, we are not going to use location or geospatial fields such as Location_Easting_OSGR, Location_Northing_OSGR, Longitude and Latitude as there is not enough time to convert geolocation data into zones or perform reverse geocoding.\n"
   ]
  },
  {
   "cell_type": "markdown",
   "metadata": {},
   "source": [
    "# Assumptions:\n",
    "- Based on data, Police Force denotes the Police Force Jurisdiction which is responsible of multiple Local Authority Districts and Highways. For simplicity sake, we will consider the Police Force field, which is the superset variable of all 3.\n"
   ]
  },
  {
   "cell_type": "markdown",
   "metadata": {},
   "source": [
    "# Variables types:\n",
    "All the features in the above datasheet can be categorized as follows:\n",
    "### Variables that are excluded from this analysis for reasons explained above:\n",
    "    - Junction_Control\n",
    "    - 2nd_Road_Class\n",
    "    - LSOA_of_Accident_Location\n",
    "    - 2nd_Road_Number\n",
    "    - 1st_Road_Class\n",
    "    - 1st_Road_Number\n",
    "    - Location_Easting_OSGR\n",
    "    - Location_Northing_OSGR\n",
    "    - Longitude\n",
    "    - Latitude\n",
    "    - Local_Authority (District)\n",
    "    - Local_Authority (Highway)\n",
    "### Ordinal variables: \n",
    "    - Accident Severity\n",
    "### Interval variables:\n",
    "    - Speed_Limit (as 0 speed limit doesn't make any sense).\n",
    "### Categorical or Nominal variables:\n",
    "    - Road_Type\n",
    "    - Junction_Detail\n",
    "    - Pedestrian_Crossing-Human_Control\n",
    "    - Pedestrian_Crossing-Physical_Facilities\n",
    "    - Light_Conditions\n",
    "    - Weather_Conditions\n",
    "    - Road_Surface_Conditions\n",
    "    - Carriageway_Hazards\n",
    "    - Urban_or_Rural_Area\n",
    "### Numerical or Metric or Ratio variables:\n",
    "    - Number_of_Vehicles\n",
    "    - Number_of_Casualties\n",
    "### Time variables:\n",
    "    - Date\n",
    "    - Day_of_Week\n",
    "    - Time\n",
    "### Target variable:\n",
    "    - Did_Police_Officer_Attend_Scene_of_Accident"
   ]
  },
  {
   "cell_type": "markdown",
   "metadata": {},
   "source": [
    "## Data Preprocessing"
   ]
  },
  {
   "cell_type": "code",
   "execution_count": 59,
   "metadata": {},
   "outputs": [],
   "source": [
    "class preprocessor:\n",
    "    \n",
    "    def __init__(self, \n",
    "                 columns_to_filter=None, \n",
    "                 ordinal_cols=None, \n",
    "                 categorical_cols=None, \n",
    "                 num_cols=None, \n",
    "                 date_cols=None,\n",
    "                 fillna_withmostcommon=None,\n",
    "                 time_cols=None):\n",
    "        self.columns_to_filter = columns_to_filter\n",
    "        self.ordinal_cols = ordinal_cols\n",
    "        self.categorical_cols = categorical_cols\n",
    "        self.num_cols = num_cols\n",
    "        self.date_cols = date_cols\n",
    "        self.fillna_withmostcommon = fillna_withmostcommon\n",
    "        self.time_cols = time_cols\n",
    "        \n",
    "    def transform(self, X, y=None):\n",
    "        \n",
    "        # Drop columns that are not required\n",
    "        X_new = X.drop(self.columns_to_filter, axis=1)\n",
    "        \n",
    "        # Transform ordinal variables using Label Encoder\n",
    "        le = LabelEncoder()\n",
    "        X_new[self.ordinal_cols] = le.fit_transform(X_new[self.ordinal_cols])\n",
    "        \n",
    "        # Create dummy variables for each of the categorical variables\n",
    "        X_new = pd.get_dummies(X_new, columns=self.categorical_cols, dummy_na=True)\n",
    "        \n",
    "        # Numerical cols\n",
    "        X_new[self.num_cols] = X_new[self.num_cols].apply(lambda x:(x.astype(int) - min(x))/(max(x) - min(x)), axis=0)\n",
    "        \n",
    "        # Fill NA with most common\n",
    "        for f in fillna_withmostcommon:\n",
    "            if f in X_new.columns.values:\n",
    "                X_new[f] = X_new[f].fillna(X_new[f].value_counts().index[0])\n",
    "        \n",
    "        return X_new\n",
    "        "
   ]
  },
  {
   "cell_type": "code",
   "execution_count": 60,
   "metadata": {},
   "outputs": [
    {
     "data": {
      "text/plain": [
       "array(['Accident_Index', 'Location_Easting_OSGR',\n",
       "       'Location_Northing_OSGR', 'Longitude', 'Latitude', 'Police_Force',\n",
       "       'Accident_Severity', 'Number_of_Vehicles', 'Number_of_Casualties',\n",
       "       'Date', 'Day_of_Week', 'Time', 'Local_Authority_(District)',\n",
       "       'Local_Authority_(Highway)', '1st_Road_Class', '1st_Road_Number',\n",
       "       'Road_Type', 'Speed_limit', 'Junction_Detail', 'Junction_Control',\n",
       "       '2nd_Road_Class', '2nd_Road_Number',\n",
       "       'Pedestrian_Crossing-Human_Control',\n",
       "       'Pedestrian_Crossing-Physical_Facilities', 'Light_Conditions',\n",
       "       'Weather_Conditions', 'Road_Surface_Conditions',\n",
       "       'Special_Conditions_at_Site', 'Carriageway_Hazards',\n",
       "       'Urban_or_Rural_Area',\n",
       "       'Did_Police_Officer_Attend_Scene_of_Accident',\n",
       "       'LSOA_of_Accident_Location'], dtype=object)"
      ]
     },
     "execution_count": 60,
     "metadata": {},
     "output_type": "execute_result"
    }
   ],
   "source": [
    "df.columns.values"
   ]
  },
  {
   "cell_type": "code",
   "execution_count": 61,
   "metadata": {},
   "outputs": [],
   "source": [
    "columns_to_filter = ['Junction_Control', '2nd_Road_Class', 'LSOA_of_Accident_Location', \\\n",
    "                    '2nd_Road_Number', '1st_Road_Class', '1st_Road_Number', 'Location_Easting_OSGR', \\\n",
    "                    'Location_Northing_OSGR', 'Longitude', 'Latitude', 'Local_Authority_(District)', \\\n",
    "                    'Local_Authority_(Highway)']\n",
    "\n",
    "ordinal_cols = ['Accident_Severity']\n",
    "categorical_cols = ['Road_Type', 'Junction_Detail', 'Pedestrian_Crossing-Human_Control', \\\n",
    "                    'Pedestrian_Crossing-Physical_Facilities', 'Light_Conditions', 'Weather_Conditions', \\\n",
    "                    'Road_Surface_Conditions', 'Carriageway_Hazards', 'Urban_or_Rural_Area']\n",
    "\n",
    "num_cols = ['Number_of_Vehicles', 'Number_of_Casualties']\n",
    "date_cols = ['Date']\n",
    "fillna_withmostcommon = ['Road_Surface_Conditions', 'Special_Conditions_at_Site', 'Carriageway_Hazards']"
   ]
  },
  {
   "cell_type": "code",
   "execution_count": 62,
   "metadata": {},
   "outputs": [
    {
     "name": "stderr",
     "output_type": "stream",
     "text": [
      "/anaconda3/lib/python3.7/site-packages/sklearn/preprocessing/label.py:235: DataConversionWarning: A column-vector y was passed when a 1d array was expected. Please change the shape of y to (n_samples, ), for example using ravel().\n",
      "  y = column_or_1d(y, warn=True)\n"
     ]
    }
   ],
   "source": [
    "p = preprocessor(columns_to_filter, ordinal_cols, categorical_cols, num_cols, date_cols, fillna_withmostcommon)\n",
    "transformed_df = p.transform(df)"
   ]
  },
  {
   "cell_type": "code",
   "execution_count": 63,
   "metadata": {},
   "outputs": [],
   "source": [
    "transformed_df['Date'] = pd.to_datetime(transformed_df['Date'])"
   ]
  },
  {
   "cell_type": "code",
   "execution_count": null,
   "metadata": {},
   "outputs": [],
   "source": [
    "### Now let's fill NA values with most common"
   ]
  },
  {
   "cell_type": "markdown",
   "metadata": {},
   "source": [
    "## Let's do Data exploration. I will skip this as you have done pretty good analysis."
   ]
  },
  {
   "cell_type": "code",
   "execution_count": 64,
   "metadata": {},
   "outputs": [
    {
     "data": {
      "text/plain": [
       "array(['Accident_Index', 'Police_Force', 'Accident_Severity',\n",
       "       'Number_of_Vehicles', 'Number_of_Casualties', 'Date',\n",
       "       'Day_of_Week', 'Time', 'Speed_limit', 'Special_Conditions_at_Site',\n",
       "       'Did_Police_Officer_Attend_Scene_of_Accident', 'Road_Type_1.0',\n",
       "       'Road_Type_2.0', 'Road_Type_3.0', 'Road_Type_6.0', 'Road_Type_7.0',\n",
       "       'Road_Type_9.0', 'Road_Type_nan', 'Junction_Detail_0.0',\n",
       "       'Junction_Detail_1.0', 'Junction_Detail_2.0',\n",
       "       'Junction_Detail_3.0', 'Junction_Detail_5.0',\n",
       "       'Junction_Detail_6.0', 'Junction_Detail_7.0',\n",
       "       'Junction_Detail_8.0', 'Junction_Detail_9.0',\n",
       "       'Junction_Detail_nan', 'Pedestrian_Crossing-Human_Control_0.0',\n",
       "       'Pedestrian_Crossing-Human_Control_1.0',\n",
       "       'Pedestrian_Crossing-Human_Control_2.0',\n",
       "       'Pedestrian_Crossing-Human_Control_nan',\n",
       "       'Pedestrian_Crossing-Physical_Facilities_0.0',\n",
       "       'Pedestrian_Crossing-Physical_Facilities_1.0',\n",
       "       'Pedestrian_Crossing-Physical_Facilities_4.0',\n",
       "       'Pedestrian_Crossing-Physical_Facilities_5.0',\n",
       "       'Pedestrian_Crossing-Physical_Facilities_7.0',\n",
       "       'Pedestrian_Crossing-Physical_Facilities_8.0',\n",
       "       'Pedestrian_Crossing-Physical_Facilities_nan',\n",
       "       'Light_Conditions_1.0', 'Light_Conditions_4.0',\n",
       "       'Light_Conditions_5.0', 'Light_Conditions_6.0',\n",
       "       'Light_Conditions_7.0', 'Light_Conditions_nan',\n",
       "       'Weather_Conditions_1.0', 'Weather_Conditions_2.0',\n",
       "       'Weather_Conditions_3.0', 'Weather_Conditions_4.0',\n",
       "       'Weather_Conditions_5.0', 'Weather_Conditions_6.0',\n",
       "       'Weather_Conditions_7.0', 'Weather_Conditions_8.0',\n",
       "       'Weather_Conditions_9.0', 'Weather_Conditions_nan',\n",
       "       'Road_Surface_Conditions_-1.0', 'Road_Surface_Conditions_1.0',\n",
       "       'Road_Surface_Conditions_2.0', 'Road_Surface_Conditions_3.0',\n",
       "       'Road_Surface_Conditions_4.0', 'Road_Surface_Conditions_5.0',\n",
       "       'Road_Surface_Conditions_nan', 'Carriageway_Hazards_-1.0',\n",
       "       'Carriageway_Hazards_0.0', 'Carriageway_Hazards_1.0',\n",
       "       'Carriageway_Hazards_2.0', 'Carriageway_Hazards_3.0',\n",
       "       'Carriageway_Hazards_6.0', 'Carriageway_Hazards_7.0',\n",
       "       'Carriageway_Hazards_nan', 'Urban_or_Rural_Area_1.0',\n",
       "       'Urban_or_Rural_Area_2.0', 'Urban_or_Rural_Area_nan'], dtype=object)"
      ]
     },
     "execution_count": 64,
     "metadata": {},
     "output_type": "execute_result"
    }
   ],
   "source": [
    "transformed_df.columns.values"
   ]
  },
  {
   "cell_type": "code",
   "execution_count": 81,
   "metadata": {},
   "outputs": [],
   "source": [
    "columns_to_not_include = ['Police_Force', 'Accident_Index', 'Date', 'Day_of_Week', 'Time', 'Did_Police_Officer_Attend_Scene_of_Accident']\n",
    "predictors = [c for c in transformed_df.columns.values if c not in columns_to_not_include]\n",
    "\n",
    "transformed_df['Did_Police_Officer_Attend_Scene_of_Accident'] = transformed_df['Did_Police_Officer_Attend_Scene_of_Accident'].replace({2:0.0, 1:1.0})"
   ]
  },
  {
   "cell_type": "markdown",
   "metadata": {},
   "source": [
    "## Heatmap of Ordinal, Numerical, and Target variables"
   ]
  },
  {
   "cell_type": "code",
   "execution_count": 74,
   "metadata": {},
   "outputs": [
    {
     "data": {
      "text/plain": [
       "<matplotlib.axes._subplots.AxesSubplot at 0x1a1d560b38>"
      ]
     },
     "execution_count": 74,
     "metadata": {},
     "output_type": "execute_result"
    },
    {
     "data": {
      "image/png": "[encoded data removed]",
      "text/plain": [
       "<Figure size 1296x864 with 2 Axes>"
      ]
     },
     "metadata": {
      "needs_background": "light"
     },
     "output_type": "display_data"
    }
   ],
   "source": [
    "features = ['Accident_Severity','Number_of_Vehicles', 'Number_of_Casualties','Speed_limit', 'Special_Conditions_at_Site',\\\n",
    "       'Did_Police_Officer_Attend_Scene_of_Accident', 'Road_Type_1.0',\\\n",
    "       'Road_Type_2.0', 'Road_Type_3.0', 'Road_Type_6.0', 'Road_Type_7.0',\\\n",
    "       'Road_Type_9.0', 'Did_Police_Officer_Attend_Scene_of_Accident']\n",
    "corrmat = transformed_df[features].corr()\n",
    "f,x = plt.subplots(figsize=(18,12))\n",
    "sns.heatmap(corrmat, linecolor='white', lw=1, annot=True)"
   ]
  },
  {
   "cell_type": "markdown",
   "metadata": {},
   "source": [
    "## I will skip most of the EDA as you have done a good job."
   ]
  },
  {
   "cell_type": "markdown",
   "metadata": {},
   "source": [
    "## The next thing I would do is to study Numerical variables"
   ]
  },
  {
   "cell_type": "markdown",
   "metadata": {},
   "source": [
    "# After that, I study whether there is a linear relationship observed between dependent variables and outcome."
   ]
  },
  {
   "cell_type": "markdown",
   "metadata": {},
   "source": [
    "# Modeling"
   ]
  }
 ],
 "metadata": {
  "kernelspec": {
   "display_name": "Python 3",
   "language": "python",
   "name": "python3"
  },
  "language_info": {
   "codemirror_mode": {
    "name": "ipython",
    "version": 2
   },
   "file_extension": ".py",
   "mimetype": "text/x-python",
   "name": "python",
   "nbconvert_exporter": "python",
   "pygments_lexer": "ipython2",
   "version": "2.7.5"
  }
 },
 "nbformat": 4,
 "nbformat_minor": 2
}
