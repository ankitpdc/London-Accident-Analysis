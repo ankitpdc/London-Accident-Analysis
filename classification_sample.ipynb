{
 "cells": [
  {
   "cell_type": "markdown",
   "metadata": {},
   "source": [
    "### Logic\n",
    "\n",
    "1. Load data\n",
    "2. Prepare features and label datasets for the Gradient Boost models\n",
    "    - Add default notice and rescind counts to training data\n",
    "    - Remove columns water, sewer, heating_fuel_type, style due to low row count\n",
    "3. Build a Gradient Boost regression model to estimate lien_amount\n",
    "    - Note:  The purpose of this estimate is for calculating risk (weighted by lien amount).  Eventhough the accuracy is very poor, this measure is the best proxy available for applying lien amount weight for calculating risk.\n",
    "4. Build a Gradient Boost classification model to estimate probability of underwriting insurance with potential lien liability"
   ]
  },
  {
   "cell_type": "code",
   "execution_count": 26,
   "metadata": {},
   "outputs": [],
   "source": [
    "import numpy as np\n",
    "import pandas as pd\n",
    "\n",
    "#import xgboost as xgb\n",
    "from sklearn.model_selection import train_test_split\n",
    "from sklearn.metrics import mean_squared_error, r2_score\n",
    "from sklearn.metrics import accuracy_score\n",
    "from sklearn.metrics import precision_recall_fscore_support\n",
    "\n",
    "import matplotlib.pyplot as plt\n",
    "from matplotlib import pyplot \n",
    "\n",
    "%matplotlib inline"
   ]
  },
  {
   "cell_type": "markdown",
   "metadata": {},
   "source": [
    "### 1. Load Data"
   ]
  },
  {
   "cell_type": "code",
   "execution_count": 27,
   "metadata": {},
   "outputs": [],
   "source": [
    "# Load data\n",
    "\n",
    "train_property_data = pd.read_csv(\"train_property_data.csv\")\n",
    "test_property_data = pd.read_csv(\"test_property_data.csv\")\n",
    "default_notices = pd.read_csv(\"default_notices.csv\")"
   ]
  },
  {
   "cell_type": "code",
   "execution_count": 50,
   "metadata": {},
   "outputs": [
    {
     "name": "stdout",
     "output_type": "stream",
     "text": [
      "house_id               40000\n",
      "state                  40000\n",
      "zipcode                40000\n",
      "county_fips            39983\n",
      "total_bath_count       36588\n",
      "year_built             38793\n",
      "building_area_sq_ft    39398\n",
      "property_type          39398\n",
      "exterior_walls         24532\n",
      "water                   8668\n",
      "sewer                   8228\n",
      "heating                31218\n",
      "heating_fuel_type       8378\n",
      "fireplace              39398\n",
      "style                   4512\n",
      "garage_type_parking    31171\n",
      "title_check_date       40000\n",
      "lien_amount            40000\n",
      "dtype: int64\n"
     ]
    }
   ],
   "source": [
    "# Print row count of property data\n",
    "print (train_property_data.count())"
   ]
  },
  {
   "cell_type": "code",
   "execution_count": 51,
   "metadata": {},
   "outputs": [
    {
     "name": "stdout",
     "output_type": "stream",
     "text": [
      "house_id       148450\n",
      "record_date    148450\n",
      "event_type     148444\n",
      "dtype: int64\n"
     ]
    }
   ],
   "source": [
    "# Print row count of default notices data\n",
    "print (default_notices.count())"
   ]
  },
  {
   "cell_type": "code",
   "execution_count": 54,
   "metadata": {},
   "outputs": [
    {
     "data": {
      "text/html": [
       "<div>\n",
       "<style scoped>\n",
       "    .dataframe tbody tr th:only-of-type {\n",
       "        vertical-align: middle;\n",
       "    }\n",
       "\n",
       "    .dataframe tbody tr th {\n",
       "        vertical-align: top;\n",
       "    }\n",
       "\n",
       "    .dataframe thead th {\n",
       "        text-align: right;\n",
       "    }\n",
       "</style>\n",
       "<table border=\"1\" class=\"dataframe\">\n",
       "  <thead>\n",
       "    <tr style=\"text-align: right;\">\n",
       "      <th></th>\n",
       "      <th>house_id</th>\n",
       "      <th>record_date</th>\n",
       "      <th>event_type</th>\n",
       "    </tr>\n",
       "  </thead>\n",
       "  <tbody>\n",
       "    <tr>\n",
       "      <th>5</th>\n",
       "      <td>13577</td>\n",
       "      <td>2013-01-28</td>\n",
       "      <td>default_rescind</td>\n",
       "    </tr>\n",
       "    <tr>\n",
       "      <th>6</th>\n",
       "      <td>165237</td>\n",
       "      <td>2014-07-23</td>\n",
       "      <td>default_notice</td>\n",
       "    </tr>\n",
       "    <tr>\n",
       "      <th>7</th>\n",
       "      <td>13580</td>\n",
       "      <td>2011-12-21</td>\n",
       "      <td>default_notice</td>\n",
       "    </tr>\n",
       "    <tr>\n",
       "      <th>8</th>\n",
       "      <td>13580</td>\n",
       "      <td>2012-06-06</td>\n",
       "      <td>default_rescind</td>\n",
       "    </tr>\n",
       "    <tr>\n",
       "      <th>9</th>\n",
       "      <td>13580</td>\n",
       "      <td>2016-06-21</td>\n",
       "      <td>default_notice</td>\n",
       "    </tr>\n",
       "  </tbody>\n",
       "</table>\n",
       "</div>"
      ],
      "text/plain": [
       "   house_id record_date       event_type\n",
       "5     13577  2013-01-28  default_rescind\n",
       "6    165237  2014-07-23   default_notice\n",
       "7     13580  2011-12-21   default_notice\n",
       "8     13580  2012-06-06  default_rescind\n",
       "9     13580  2016-06-21   default_notice"
      ]
     },
     "execution_count": 54,
     "metadata": {},
     "output_type": "execute_result"
    }
   ],
   "source": [
    "default_notices[5:10]"
   ]
  },
  {
   "cell_type": "markdown",
   "metadata": {},
   "source": [
    "### 2. Prepare features and label datasets for the Gradient Boost  models"
   ]
  },
  {
   "cell_type": "code",
   "execution_count": 4,
   "metadata": {},
   "outputs": [],
   "source": [
    "#\n",
    "# Prepare features for the Gradient Boost models\n",
    "# 1. Include frequency of default notices into training data\n",
    "#    default_notice: count of default notice\n",
    "#    default_rescind: count of default rescind\n",
    "# 2. Remove columns exterior_walls, water, sewer, heating_fuel_type, style due to low row count\n",
    "#\n",
    "def prepare_features (property_data, default_data):\n",
    "    df = property_data.set_index('house_id').join(\n",
    "        default_data.set_index('house_id'), how='left', on='house_id').reset_index()\n",
    "    #x = x.loc[x['title_check_date'] >= x['record_date'], :]\n",
    "    df = df[['house_id','event_type']].groupby(['house_id','event_type']).size().reset_index()\n",
    "    df = pd.DataFrame(df)\n",
    "    df.columns = ['house_id', 'event_type', 'count']\n",
    "    df = df.pivot(index='house_id', columns='event_type', values='count').reset_index().fillna(0)\n",
    "    df['default_net'] = df['default_notice'] - df['default_rescind']\n",
    "    df = property_data.set_index('house_id').join(df.set_index('house_id'), how='left', on='house_id').reset_index()\n",
    "    df['zipcode'] = df.zipcode.astype(str)\n",
    "    df['county_fips'] = df.county_fips.astype(str)\n",
    "    df['default_notice'] = df['default_notice'].apply(lambda x: 1 if x > 0 else 0)\n",
    "    df = df[['house_id', 'state', 'zipcode', 'county_fips', 'total_bath_count', 'year_built',\n",
    "           'building_area_sq_ft', 'property_type', 'fireplace', 'garage_type_parking', \n",
    "           'default_notice', 'default_rescind', 'default_net', 'lien_amount']]\n",
    "    \n",
    "    df = pd.get_dummies(df)\n",
    "    return df\n",
    "\n",
    "def prepare_features_for_scoring (property_data, default_data):\n",
    "    df = property_data.set_index('house_id').join(\n",
    "        default_data.set_index('house_id'), how='left', on='house_id').reset_index()\n",
    "    #x = x.loc[x['title_check_date'] >= x['record_date'], :]\n",
    "    df = df[['house_id','event_type']].groupby(['house_id','event_type']).size().reset_index()\n",
    "    df = pd.DataFrame(df)\n",
    "    df.columns = ['house_id', 'event_type', 'count']\n",
    "    df = df.pivot(index='house_id', columns='event_type', values='count').reset_index().fillna(0)\n",
    "    df['default_net'] = df['default_notice'] - df['default_rescind']\n",
    "    df = property_data.set_index('house_id').join(df.set_index('house_id'), how='left', on='house_id').reset_index()\n",
    "    df['zipcode'] = df.zipcode.astype(str)\n",
    "    df['county_fips'] = df.county_fips.astype(str)\n",
    "    df['default_notice'] = df['default_notice'].apply(lambda x: 1 if x > 0 else 0)\n",
    "    df = df[['house_id', 'state', 'zipcode', 'county_fips', 'total_bath_count', 'year_built',\n",
    "           'building_area_sq_ft', 'property_type', 'fireplace', 'garage_type_parking', \n",
    "           'default_notice', 'default_rescind', 'default_net']]\n",
    "    \n",
    "    df = pd.get_dummies(df)\n",
    "    return df"
   ]
  },
  {
   "cell_type": "code",
   "execution_count": 5,
   "metadata": {},
   "outputs": [],
   "source": [
    "#\n",
    "# Prepare training and validation data\n",
    "#\n",
    "# X_train, X_test: features\n",
    "# y_train, y_test: target for Gradient Boost regression model\n",
    "# yc_train, yc_test: target for Gradient Boost classification model\n",
    "#\n",
    "#\n",
    "\n",
    "data = prepare_features (train_property_data, default_notices)\n",
    "#data = (data[~np.isnan(data).any(axis=1)])\n",
    "X = data.drop(columns=['house_id', 'lien_amount'])\n",
    "\n",
    "#from sklearn.preprocessing import MinMaxScaler\n",
    "#scaler = MinMaxScaler(feature_range=(0, 1))\n",
    "#X = scaler.fit_transform(X)\n",
    "\n",
    "y = data['lien_amount']\n",
    "\n",
    "X_train, X_test, y_train, y_test = train_test_split(X, y, test_size=0.2, random_state=123)\n",
    "\n",
    "yc_train = y_train.apply(lambda x: 1 if x > 0 else 0)\n",
    "yc_test = y_test.apply(lambda x: 1 if x > 0 else 0)"
   ]
  },
  {
   "cell_type": "markdown",
   "metadata": {},
   "source": [
    "### 3. Build a Gradient Boost Regression model to estimate lien_amount (for risk calculation purpose only)"
   ]
  },
  {
   "cell_type": "code",
   "execution_count": 6,
   "metadata": {},
   "outputs": [
    {
     "data": {
      "text/plain": [
       "'\\nfix the following code...\\n#Obtain mean of columns as you need, nanmean is just convenient.\\ncol_mean = np.nanmean(X_train, axis=0)\\n\\n#Find indicies that you need to replace\\ninds = np.where(np.isnan(X_train))\\n\\n#Place column means in the indices. Align the arrays using take\\nX_train[inds] = np.take(col_mean, inds[1])\\n'"
      ]
     },
     "execution_count": 6,
     "metadata": {},
     "output_type": "execute_result"
    }
   ],
   "source": [
    "# This needs to be changed to use means\n",
    "\n",
    "X_train = X_train.fillna(0)\n",
    "y_train = y_train.fillna(0)\n",
    "\n",
    "X_test = X_test.fillna(0)\n",
    "y_test = y_test.fillna(0)\n",
    "\n",
    "\n",
    "'''\n",
    "fix the following code...\n",
    "#Obtain mean of columns as you need, nanmean is just convenient.\n",
    "col_mean = np.nanmean(X_train, axis=0)\n",
    "\n",
    "#Find indicies that you need to replace\n",
    "inds = np.where(np.isnan(X_train))\n",
    "\n",
    "#Place column means in the indices. Align the arrays using take\n",
    "X_train[inds] = np.take(col_mean, inds[1])\n",
    "'''"
   ]
  },
  {
   "cell_type": "code",
   "execution_count": 7,
   "metadata": {},
   "outputs": [],
   "source": [
    "# import machine learning algorithms\n",
    "from sklearn.ensemble import GradientBoostingClassifier, GradientBoostingRegressor\n",
    "from sklearn.metrics import classification_report, confusion_matrix, roc_curve, auc"
   ]
  },
  {
   "cell_type": "code",
   "execution_count": 8,
   "metadata": {},
   "outputs": [],
   "source": [
    "# Define model\n",
    "gb_reg = GradientBoostingRegressor(learning_rate = 0.01,\n",
    "                                   n_estimators = 100,\n",
    "                                   subsample=1.0,\n",
    "                                   max_depth = 4,\n",
    "                                   max_features = 0.3,\n",
    "                                   alpha = 0.3\n",
    "                                   )"
   ]
  },
  {
   "cell_type": "code",
   "execution_count": 9,
   "metadata": {},
   "outputs": [
    {
     "name": "stdout",
     "output_type": "stream",
     "text": [
      "CPU times: user 35.2 s, sys: 631 ms, total: 35.8 s\n",
      "Wall time: 35.6 s\n"
     ]
    },
    {
     "data": {
      "text/plain": [
       "GradientBoostingRegressor(alpha=0.3, criterion='friedman_mse', init=None,\n",
       "             learning_rate=0.01, loss='ls', max_depth=4, max_features=0.3,\n",
       "             max_leaf_nodes=None, min_impurity_decrease=0.0,\n",
       "             min_impurity_split=None, min_samples_leaf=1,\n",
       "             min_samples_split=2, min_weight_fraction_leaf=0.0,\n",
       "             n_estimators=100, n_iter_no_change=None, presort='auto',\n",
       "             random_state=None, subsample=1.0, tol=0.0001,\n",
       "             validation_fraction=0.1, verbose=0, warm_start=False)"
      ]
     },
     "execution_count": 9,
     "metadata": {},
     "output_type": "execute_result"
    }
   ],
   "source": [
    "# Fit model (train)\n",
    "%time gb_reg.fit(X_train, y_train)"
   ]
  },
  {
   "cell_type": "code",
   "execution_count": 10,
   "metadata": {},
   "outputs": [
    {
     "data": {
      "text/plain": [
       "-0.01023317031235016"
      ]
     },
     "execution_count": 10,
     "metadata": {},
     "output_type": "execute_result"
    }
   ],
   "source": [
    "gb_reg.score(X_test, y_test)"
   ]
  },
  {
   "cell_type": "code",
   "execution_count": 11,
   "metadata": {
    "scrolled": true
   },
   "outputs": [
    {
     "name": "stdout",
     "output_type": "stream",
     "text": [
      "CPU times: user 220 ms, sys: 10 ms, total: 230 ms\n",
      "Wall time: 229 ms\n",
      "Test RMSE: 12041.004617\n",
      "CPU times: user 963 ms, sys: 261 ms, total: 1.22 s\n",
      "Wall time: 1.22 s\n",
      "Training RMSE: 10917.141498\n"
     ]
    }
   ],
   "source": [
    "# Calculate Training and Test MSEs\n",
    "\n",
    "%time preds = gb_reg.predict(X_test)\n",
    "rmse = np.sqrt(mean_squared_error(y_test, preds))\n",
    "print(\"Test RMSE: %f\" % (rmse))\n",
    "\n",
    "%time preds = gb_reg.predict(X_train)\n",
    "rmse = np.sqrt(mean_squared_error(y_train, preds))\n",
    "print(\"Training RMSE: %f\" % (rmse))"
   ]
  },
  {
   "cell_type": "code",
   "execution_count": 12,
   "metadata": {
    "scrolled": true
   },
   "outputs": [
    {
     "name": "stdout",
     "output_type": "stream",
     "text": [
      "building_area_sq_ft\n",
      "total_bath_count\n",
      "year_built\n",
      "zipcode_30305\n",
      "default_net\n",
      "zipcode_85022\n",
      "zipcode_32814\n",
      "zipcode_85016\n",
      "default_rescind\n",
      "zipcode_98011\n"
     ]
    }
   ],
   "source": [
    "# List top 10 important features\n",
    "\n",
    "top10args = gb_reg.feature_importances_.argsort()[-10:][::-1]\n",
    "print(*X_train.columns.values[top10args], sep=\"\\n\")"
   ]
  },
  {
   "cell_type": "markdown",
   "metadata": {},
   "source": [
    "### 4. Build a Gradient Boost Classification model to estimate probability of underwriting insurance with potential default"
   ]
  },
  {
   "cell_type": "markdown",
   "metadata": {},
   "source": [
    "##### ignore .... used for tuning...  ended up not using it...\n",
    "weight_ratio = float(len(yc_train[yc_train == 0]))/float(len(yc_train[yc_train == \n",
    "1]))\n",
    "\n",
    "weight_ratio=1\n",
    "w_array = np.array([1]*yc_train.shape[0])\n",
    "w_array[yc_train==1] = weight_ratio\n",
    "w_array[yc_train==0] = 1\n"
   ]
  },
  {
   "cell_type": "code",
   "execution_count": 13,
   "metadata": {},
   "outputs": [
    {
     "data": {
      "text/plain": [
       "'\\ngb_cls = GradientBoostingClassifier(n_estimators=20, \\n                                    learning_rate = 0.5, \\n                                    max_features=2, \\n                                    max_depth = 2, \\n                                    random_state = 0)\\n'"
      ]
     },
     "execution_count": 13,
     "metadata": {},
     "output_type": "execute_result"
    }
   ],
   "source": [
    "gb_cls = GradientBoostingClassifier(learning_rate=0.1, \n",
    "                                    n_estimators=500,\n",
    "                                    max_depth=4)\n",
    "\n",
    "'''\n",
    "gb_cls = GradientBoostingClassifier(n_estimators=20, \n",
    "                                    learning_rate = 0.5, \n",
    "                                    max_features=2, \n",
    "                                    max_depth = 2, \n",
    "                                    random_state = 0)\n",
    "'''"
   ]
  },
  {
   "cell_type": "code",
   "execution_count": 14,
   "metadata": {},
   "outputs": [
    {
     "name": "stdout",
     "output_type": "stream",
     "text": [
      "CPU times: user 7min 24s, sys: 1.5 s, total: 7min 26s\n",
      "Wall time: 7min 26s\n"
     ]
    },
    {
     "data": {
      "text/plain": [
       "GradientBoostingClassifier(criterion='friedman_mse', init=None,\n",
       "              learning_rate=0.1, loss='deviance', max_depth=4,\n",
       "              max_features=None, max_leaf_nodes=None,\n",
       "              min_impurity_decrease=0.0, min_impurity_split=None,\n",
       "              min_samples_leaf=1, min_samples_split=2,\n",
       "              min_weight_fraction_leaf=0.0, n_estimators=500,\n",
       "              n_iter_no_change=None, presort='auto', random_state=None,\n",
       "              subsample=1.0, tol=0.0001, validation_fraction=0.1,\n",
       "              verbose=0, warm_start=False)"
      ]
     },
     "execution_count": 14,
     "metadata": {},
     "output_type": "execute_result"
    }
   ],
   "source": [
    "# Fit the model - takes ~7.5min\n",
    "\n",
    "%time gb_cls.fit(X_train, yc_train)"
   ]
  },
  {
   "cell_type": "code",
   "execution_count": 15,
   "metadata": {},
   "outputs": [
    {
     "name": "stdout",
     "output_type": "stream",
     "text": [
      "Confusion Matrix:\n",
      "[[7120   69]\n",
      " [ 727   84]]\n",
      "\n",
      "Classification Report\n",
      "              precision    recall  f1-score   support\n",
      "\n",
      "           0       0.91      0.99      0.95      7189\n",
      "           1       0.55      0.10      0.17       811\n",
      "\n",
      "   micro avg       0.90      0.90      0.90      8000\n",
      "   macro avg       0.73      0.55      0.56      8000\n",
      "weighted avg       0.87      0.90      0.87      8000\n",
      "\n"
     ]
    },
    {
     "data": {
      "image/png": "[encoded data removed]",
      "text/plain": [
       "<Figure size 432x288 with 1 Axes>"
      ]
     },
     "metadata": {
      "needs_background": "light"
     },
     "output_type": "display_data"
    },
    {
     "name": "stdout",
     "output_type": "stream",
     "text": [
      "Area under ROC curve = 0.77\n"
     ]
    }
   ],
   "source": [
    "# Calculate Confusion Matrix, Precision measures, ROC curve and Area-Under-Curve (AUC)\n",
    "\n",
    "predictions = gb_cls.predict(X_test)\n",
    "\n",
    "print(\"Confusion Matrix:\")\n",
    "print(confusion_matrix(yc_test, predictions))\n",
    "print()\n",
    "print(\"Classification Report\")\n",
    "print(classification_report(yc_test, predictions))\n",
    "\n",
    "# ROC curve and Area-Under-Curve (AUC)\n",
    "\n",
    "y_scores_gb = gb_cls.decision_function(X_test)\n",
    "fpr_gb, tpr_gb, _ = roc_curve(yc_test, y_scores_gb)\n",
    "roc_auc_gb = auc(fpr_gb, tpr_gb)\n",
    "\n",
    "plt.plot(fpr_gb, tpr_gb, color='blue', label=\"roc\")\n",
    "plt.xlabel('False Positive Rate')\n",
    "plt.ylabel('True Positive Rate')\n",
    "plt.legend()\n",
    "plt.show()\n",
    "\n",
    "print(\"Area under ROC curve = {:0.2f}\".format(roc_auc_gb))"
   ]
  },
  {
   "cell_type": "markdown",
   "metadata": {},
   "source": [
    "#### Note:\n",
    "The AUC and overall accuracies are important.  The class level accuracies will be readjusted in the risk model below. "
   ]
  },
  {
   "cell_type": "code",
   "execution_count": null,
   "metadata": {},
   "outputs": [],
   "source": []
  }
 ],
 "metadata": {
  "kernelspec": {
   "display_name": "Python 2",
   "language": "python",
   "name": "python2"
  },
  "language_info": {
   "codemirror_mode": {
    "name": "ipython",
    "version": 2
   },
   "file_extension": ".py",
   "mimetype": "text/x-python",
   "name": "python",
   "nbconvert_exporter": "python",
   "pygments_lexer": "ipython2",
   "version": "2.7.5"
  }
 },
 "nbformat": 4,
 "nbformat_minor": 2
}
